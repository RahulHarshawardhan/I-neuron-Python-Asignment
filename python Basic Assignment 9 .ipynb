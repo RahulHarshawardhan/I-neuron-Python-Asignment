{
 "cells": [
  {
   "cell_type": "markdown",
   "id": "d44c0a56",
   "metadata": {},
   "source": [
    "### 1. To what does a relative path refer?"
   ]
  },
  {
   "cell_type": "markdown",
   "id": "961a366f",
   "metadata": {},
   "source": [
    "A relative path refers to the path of a file or directory relative to the current working directory or another specified reference point. It specifies the location of a file or directory in relation to the current location or another known location in the file system.\n",
    "\n",
    "In a file system, each directory or folder can contain files and subdirectories. A relative path indicates the path to a file or directory starting from the current working directory. It does not provide the complete path from the root directory.\n",
    "\n",
    "For example, let's say you have the following directory structu"
   ]
  },
  {
   "cell_type": "markdown",
   "id": "7478c456",
   "metadata": {},
   "source": [
    "### 2. What does an absolute path start with your operating system?"
   ]
  },
  {
   "cell_type": "markdown",
   "id": "7705ff03",
   "metadata": {},
   "source": [
    "The format of an absolute path depends on the operating system. However, in most operating systems, an absolute path starts with the root directory.\n",
    "In Unix-like systems (including Linux and macOS), an absolute path starts with a forward slash (/). For example:\n",
    "/home/user/documents/README.txt\n",
    "\n",
    "n Windows, an absolute path starts with a drive letter followed by a colon (:) and a backslash () character. For example:\n",
    "C:\\Users\\user\\Documents\\README.txt\n",
    "\n"
   ]
  },
  {
   "cell_type": "markdown",
   "id": "b5a131fb",
   "metadata": {},
   "source": [
    "### 3. What do the functions os.getcwd() and os.chdir() do?"
   ]
  },
  {
   "cell_type": "markdown",
   "id": "9de960da",
   "metadata": {},
   "source": [
    "\n",
    "os.getcwd(): This function returns the current working directory (CWD) as a string. The current working directory is the directory in which your Python script or program is currently executing. When you call os.getcwd(), it will provide the absolute path of the current working directory."
   ]
  },
  {
   "cell_type": "code",
   "execution_count": 1,
   "id": "31f832c6",
   "metadata": {},
   "outputs": [
    {
     "name": "stdout",
     "output_type": "stream",
     "text": [
      "C:\\Users\\rahul\\Ineuron Python Assignment\\Python Assignments completed\\pythonm Basic Assignment\n"
     ]
    }
   ],
   "source": [
    "import os\n",
    "\n",
    "current_directory = os.getcwd()\n",
    "print(current_directory)\n"
   ]
  },
  {
   "cell_type": "markdown",
   "id": "4f7f8609",
   "metadata": {},
   "source": [
    "os.chdir(path): This function changes the current working directory to the specified path. The path parameter is a string representing the directory you want to set as the new current working directory. If the path is relative, it will be interpreted relative to the current working directory. If the path is absolute, it will directly set the new current working directory."
   ]
  },
  {
   "cell_type": "code",
   "execution_count": 3,
   "id": "648004c2",
   "metadata": {},
   "outputs": [],
   "source": [
    "import os\n",
    "\n",
    "os.chdir(r'C:\\Users\\rahul\\Ineuron Python Assignment\\Python Assignments completed')\n"
   ]
  },
  {
   "cell_type": "markdown",
   "id": "e873ec31",
   "metadata": {},
   "source": [
    "### 4. What are the . and .. folders?"
   ]
  },
  {
   "cell_type": "markdown",
   "id": "5a7d1dc3",
   "metadata": {},
   "source": [
    "In most file systems, the . and .. folders are special references that represent the current directory and the parent directory, respectively."
   ]
  },
  {
   "cell_type": "markdown",
   "id": "77e6ae54",
   "metadata": {},
   "source": [
    "or Example: if the below path is my absolute path:\n",
    "C:\\Users\\rahul\\Ineuron Python Assignment\\Python Assignments completed\\pythonm Basic Assignment\n",
    "Then . represents the pathC:\\Users\\rahul\\Ineuron Python Assignment\\Python Assignments completed\\pythonm Basic Assignment\n",
    "Where as .. represents the path C:\\Users\\rahul\\Ineuron Python Assignment\\Python Assignments completed."
   ]
  },
  {
   "cell_type": "markdown",
   "id": "b98caa6e",
   "metadata": {},
   "source": [
    "### 5. In C:\\bacon\\eggs\\spam.txt, which part is the dir name, and which part is the base name?"
   ]
  },
  {
   "cell_type": "markdown",
   "id": "b942de29",
   "metadata": {},
   "source": [
    "Ans: For C:\\bacon\\eggs\\spam.txt\n",
    "- The dir name is C:\\\\bacon\\\\eggs\n",
    "- The Base name is spam.txt"
   ]
  },
  {
   "cell_type": "code",
   "execution_count": 5,
   "id": "cccdcb9a",
   "metadata": {},
   "outputs": [
    {
     "name": "stdout",
     "output_type": "stream",
     "text": [
      "C:\\bacon\\eggs\n",
      "spam.txt\n"
     ]
    }
   ],
   "source": [
    "import os\n",
    "path = r'C:\\bacon\\eggs\\spam.txt'\n",
    "print(os.path.dirname(path))\n",
    "print(os.path.basename(path))"
   ]
  },
  {
   "cell_type": "markdown",
   "id": "caccd9a5",
   "metadata": {},
   "source": [
    "### 6.What are the three mode arguments that can be passed to the open() function ?"
   ]
  },
  {
   "cell_type": "markdown",
   "id": "a003dc50",
   "metadata": {},
   "source": [
    "Ans: A file can be Accessed in python using open() function. open function takes two arguments filename and mode of operation (optional). if mode is not provided the default mode of opening is read mode\n",
    "So, the syntax being: open(filename, mode)\n",
    "\n",
    "- ‘r’ – Read Mode: This is the default mode for open(). The file is opened and a pointer is positioned at the beginning of the file’s content.\n",
    "- ‘w’ – Write Mode: Using this mode will overwrite any existing content in a file. If the given file does not exist, a new one will be created.\n",
    "- ‘r+’ – Read/Write Mode: Use this mode if you need to simultaneously read and write to a file.\n",
    "- ‘a’ – Append Mode: With this mode the user can append the data without overwriting any already existing data in the file.\n",
    "- ‘a+’ – Append and Read Mode: In this mode you can read and append the data without overwriting the original file.\n",
    "- ‘x’ – Exclusive Creating Mode: This mode is for the sole purpose of creating new files. Use this mode if you know the file to be written doesn’t exist beforehand."
   ]
  },
  {
   "cell_type": "markdown",
   "id": "730345f2",
   "metadata": {},
   "source": [
    "### 7. What happens if an existing file is opened in write mode?"
   ]
  },
  {
   "cell_type": "markdown",
   "id": "1bc415ed",
   "metadata": {},
   "source": [
    "Ans: Using this mode will overwrite any existing content in a file. If the given file does not exist, a new one will be created."
   ]
  },
  {
   "cell_type": "markdown",
   "id": "d6b5c0b2",
   "metadata": {},
   "source": [
    "### 8. How do you tell the difference between read() and readlines()?"
   ]
  },
  {
   "cell_type": "markdown",
   "id": "0a671cc8",
   "metadata": {},
   "source": [
    "The read() and readlines() methods are both used for reading data from a file in Python, but they differ in how they process and return the data:"
   ]
  },
  {
   "cell_type": "markdown",
   "id": "c888daa3",
   "metadata": {},
   "source": [
    "read(): The read() method is used to read the entire contents of a file as a single string. It reads all the characters from the current file position until the end of the file or a specified number of characters if provided as an argument. The returned string includes newline characters ('\\n') that are present in the file.The read() method will return the entire content of the file as a single string.\n",
    "\n",
    "Example:"
   ]
  },
  {
   "cell_type": "code",
   "execution_count": null,
   "id": "1275821c",
   "metadata": {},
   "outputs": [],
   "source": [
    "with open('file.txt', 'r') as file:\n",
    "    content = file.read()\n",
    "    print(content)\n"
   ]
  },
  {
   "cell_type": "markdown",
   "id": "8ff741be",
   "metadata": {},
   "source": [
    "readlines(): The readlines() method is used to read the contents of a file line by line and return a list of strings. Each string in the list represents a line from the file, including the newline character ('\\n') at the end of each line.The readlines() method will return a list of strings, with each string representing a line from the file.\n",
    "\n",
    "Example\n"
   ]
  },
  {
   "cell_type": "code",
   "execution_count": null,
   "id": "f4bac3c1",
   "metadata": {},
   "outputs": [],
   "source": [
    "with open('file.txt', 'r') as file:\n",
    "    lines = file.readlines()\n",
    "    print(lines)\n"
   ]
  },
  {
   "cell_type": "markdown",
   "id": "8edab7bc",
   "metadata": {},
   "source": [
    "### 9. What data structure does a shelf value resemble?"
   ]
  },
  {
   "cell_type": "markdown",
   "id": "628675c0",
   "metadata": {},
   "source": [
    "Ans: it contains key and values it represents dictionary."
   ]
  },
  {
   "cell_type": "code",
   "execution_count": null,
   "id": "42695b26",
   "metadata": {},
   "outputs": [],
   "source": []
  },
  {
   "cell_type": "code",
   "execution_count": null,
   "id": "79498115",
   "metadata": {},
   "outputs": [],
   "source": []
  },
  {
   "cell_type": "code",
   "execution_count": null,
   "id": "a1ea1c33",
   "metadata": {},
   "outputs": [],
   "source": []
  }
 ],
 "metadata": {
  "kernelspec": {
   "display_name": "Python 3",
   "language": "python",
   "name": "python3"
  },
  "language_info": {
   "codemirror_mode": {
    "name": "ipython",
    "version": 3
   },
   "file_extension": ".py",
   "mimetype": "text/x-python",
   "name": "python",
   "nbconvert_exporter": "python",
   "pygments_lexer": "ipython3",
   "version": "3.8.8"
  }
 },
 "nbformat": 4,
 "nbformat_minor": 5
}
