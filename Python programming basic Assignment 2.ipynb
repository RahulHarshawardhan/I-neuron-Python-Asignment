{
 "cells": [
  {
   "cell_type": "code",
   "execution_count": 1,
   "metadata": {},
   "outputs": [],
   "source": [
    "#1.\tWrite a Python program to convert kilometers to miles?"
   ]
  },
  {
   "cell_type": "code",
   "execution_count": 3,
   "metadata": {},
   "outputs": [
    {
     "name": "stdout",
     "output_type": "stream",
     "text": [
      "Enter the kilometer to convert into Miles : 23.5\n",
      " The miles is 37.835 :\n"
     ]
    }
   ],
   "source": [
    "KM = float(input(\"Enter the kilometer to convert into Miles : \"))\n",
    "Miles = 1.61* KM\n",
    "print(\" The miles is {} :\".format(Miles))"
   ]
  },
  {
   "cell_type": "code",
   "execution_count": null,
   "metadata": {},
   "outputs": [],
   "source": [
    "#2.\tWrite a Python program to convert Celsius to Fahrenheit?"
   ]
  },
  {
   "cell_type": "code",
   "execution_count": 6,
   "metadata": {},
   "outputs": [
    {
     "name": "stdout",
     "output_type": "stream",
     "text": [
      "Enter the value of degree celsius : 25\n",
      "The conversion of 25degcelsius is 77.0 degfahrenheit\n"
     ]
    }
   ],
   "source": [
    "celsius = int(input(\"Enter the value of degree celsius : \"))\n",
    "Fahrenheit = ((1.8*celsius)+32)\n",
    "print(\"The conversion of {}degcelsius is {} degfahrenheit\". format(celsius, Fahrenheit))"
   ]
  },
  {
   "cell_type": "code",
   "execution_count": null,
   "metadata": {},
   "outputs": [],
   "source": [
    "#3.\tWrite a Python program to display calendar?"
   ]
  },
  {
   "cell_type": "code",
   "execution_count": 11,
   "metadata": {},
   "outputs": [
    {
     "name": "stdout",
     "output_type": "stream",
     "text": [
      "     June 2021\n",
      "Mo Tu We Th Fr Sa Su\n",
      "    1  2  3  4  5  6\n",
      " 7  8  9 10 11 12 13\n",
      "14 15 16 17 18 19 20\n",
      "21 22 23 24 25 26 27\n",
      "28 29 30\n",
      "\n"
     ]
    }
   ],
   "source": [
    "import calendar\n",
    "\n",
    "yy = 2021  \n",
    "mm = 6    \n",
    "print(calendar.month(yy, mm))\n"
   ]
  },
  {
   "cell_type": "code",
   "execution_count": null,
   "metadata": {},
   "outputs": [],
   "source": [
    "#4.\tWrite a Python program to solve quadratic equation?"
   ]
  },
  {
   "cell_type": "code",
   "execution_count": 13,
   "metadata": {},
   "outputs": [
    {
     "name": "stdout",
     "output_type": "stream",
     "text": [
      "Write the coefficient of x**2 :3\n",
      "Write the coefficient of x :5\n",
      "Write the value of c: 2\n",
      "The roots of the given quadratic equation is (-0.6666666666666666+0j) (-1+0j) \n"
     ]
    }
   ],
   "source": [
    "# The standard form of a quadratic equation is ax**2 + bx + c = 0 where a!=0\n",
    "import cmath\n",
    "a= int(input(\"Write the coefficient of x**2 :\"))\n",
    "b= int(input(\"Write the coefficient of x :\"))\n",
    "c= int(input(\"Write the value of c: \"))\n",
    "D= (b**2)-(4*a*c)\n",
    "root1 = (-b+cmath.sqrt(D))/(2*a)\n",
    "root2 = (-b-cmath.sqrt(D))/(2*a)\n",
    "print(\"The roots of the given quadratic equation is {} {} \". format(root1,root2))"
   ]
  },
  {
   "cell_type": "code",
   "execution_count": null,
   "metadata": {},
   "outputs": [],
   "source": [
    "#5.\tWrite a Python program to swap two variables without temp variable"
   ]
  },
  {
   "cell_type": "code",
   "execution_count": 18,
   "metadata": {},
   "outputs": [
    {
     "name": "stdout",
     "output_type": "stream",
     "text": [
      "enter the first variable x : 2\n",
      "enter the Second variable y: 3\n",
      "x = 3\n",
      "y = 2\n"
     ]
    }
   ],
   "source": [
    "x =int(input('enter the first variable x : ')) \n",
    "y =  int(input('enter the Second variable y: ')) \n",
    "x, y = y, x\n",
    "print(\"x =\", x)\n",
    "print(\"y =\", y)"
   ]
  },
  {
   "cell_type": "code",
   "execution_count": null,
   "metadata": {},
   "outputs": [],
   "source": []
  },
  {
   "cell_type": "code",
   "execution_count": null,
   "metadata": {},
   "outputs": [],
   "source": []
  },
  {
   "cell_type": "code",
   "execution_count": null,
   "metadata": {},
   "outputs": [],
   "source": []
  },
  {
   "cell_type": "code",
   "execution_count": null,
   "metadata": {},
   "outputs": [],
   "source": []
  },
  {
   "cell_type": "code",
   "execution_count": null,
   "metadata": {},
   "outputs": [],
   "source": []
  },
  {
   "cell_type": "code",
   "execution_count": null,
   "metadata": {},
   "outputs": [],
   "source": []
  },
  {
   "cell_type": "code",
   "execution_count": null,
   "metadata": {},
   "outputs": [],
   "source": []
  }
 ],
 "metadata": {
  "kernelspec": {
   "display_name": "Python 3",
   "language": "python",
   "name": "python3"
  },
  "language_info": {
   "codemirror_mode": {
    "name": "ipython",
    "version": 3
   },
   "file_extension": ".py",
   "mimetype": "text/x-python",
   "name": "python",
   "nbconvert_exporter": "python",
   "pygments_lexer": "ipython3",
   "version": "3.8.5"
  }
 },
 "nbformat": 4,
 "nbformat_minor": 4
}
