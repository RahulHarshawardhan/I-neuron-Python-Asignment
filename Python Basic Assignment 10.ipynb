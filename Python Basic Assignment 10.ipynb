{
 "cells": [
  {
   "cell_type": "markdown",
   "id": "296901a8",
   "metadata": {},
   "source": [
    "### 1. How do you distinguish between shutil.copy() and shutil.copytree()?"
   ]
  },
  {
   "cell_type": "markdown",
   "id": "8ba0e02c",
   "metadata": {},
   "source": [
    "Ans) The shutil.copy() and shutil.copytree() functions are part of the shutil module in Python and are used for file and directory copying operations. Here's how they differ:"
   ]
  },
  {
   "cell_type": "markdown",
   "id": "df38ebe9",
   "metadata": {},
   "source": [
    "shutil.copy(src, dst): This function is used to copy a single file from the source (src) to the destination (dst) location. The src parameter represents the path of the source file, and the dst parameter represents the path of the destination file or directory.\n",
    "\n",
    "\n",
    "Note that if the dst path already exists and is a file, the function will overwrite the existing file. If the dst path is a directory, it will create a new file with the same name in that directory.\n"
   ]
  },
  {
   "cell_type": "code",
   "execution_count": null,
   "id": "69487da8",
   "metadata": {},
   "outputs": [],
   "source": [
    "#Example:\n",
    "#In this example, the file 'source_file.txt' will be copied to 'destination_file.txt'.\n",
    "import shutil\n",
    "\n",
    "shutil.copy('source_file.txt', 'destination_file.txt')"
   ]
  },
  {
   "cell_type": "markdown",
   "id": "323c8c4b",
   "metadata": {},
   "source": [
    "shutil.copytree(src, dst): This function is used to recursively copy an entire directory tree from the source (src) to the destination (dst) location. The src parameter represents the path of the source directory, and the dst parameter represents the path of the destination directory.\n",
    "\n",
    "Example:"
   ]
  },
  {
   "cell_type": "code",
   "execution_count": null,
   "id": "048b33b0",
   "metadata": {},
   "outputs": [],
   "source": [
    "import shutil\n",
    "\n",
    "shutil.copytree('source_directory', 'destination_directory')\n"
   ]
  },
  {
   "cell_type": "markdown",
   "id": "d96b3007",
   "metadata": {},
   "source": [
    "In this example, the entire directory tree of 'source_directory' will be copied to 'destination_directory'.\n",
    "\n",
    "Note that if the dst directory already exists, the function will raise a FileExistsError unless the dirs_exist_ok parameter is set to True. By default, the shutil.copytree() function will preserve file attributes, timestamps, and copy the directory structure recursively."
   ]
  },
  {
   "cell_type": "markdown",
   "id": "ee19fd42",
   "metadata": {},
   "source": [
    "### 2. What function is used to rename files??"
   ]
  },
  {
   "cell_type": "markdown",
   "id": "72a8dee8",
   "metadata": {},
   "source": [
    "s.rename() function is used to rename files or directories using a python program, this function takes two arguments src and dest, src represents the name file/directory which we want to rename, whereas dest represents the new name of the file/directory."
   ]
  },
  {
   "cell_type": "code",
   "execution_count": null,
   "id": "36de0e51",
   "metadata": {},
   "outputs": [],
   "source": [
    "import os\n",
    "\n",
    "os.replace('old_filename.txt', 'new_filename.txt')\n"
   ]
  },
  {
   "cell_type": "markdown",
   "id": "f729bdbe",
   "metadata": {},
   "source": [
    "### 3. What is the difference between the delete functions in the send2trash and shutil modules?"
   ]
  },
  {
   "cell_type": "markdown",
   "id": "f188e6d5",
   "metadata": {},
   "source": [
    "The delete functions in the send2trash and shutil modules have different behaviors and purposes:\n",
    "\n",
    "send2trash: The send2trash module provides a function called send2trash(path) that moves a file or directory to the system's trash or recycle bin instead of permanently deleting it. This function is useful when you want to delete a file or directory but still have the option to recover it from the trash or recycle bin later.\n"
   ]
  },
  {
   "cell_type": "markdown",
   "id": "39ff308a",
   "metadata": {},
   "source": [
    "from send2trash import send2trash\n",
    "\n",
    "send2trash('file.txt')\n",
    "\n",
    "In this example, the file 'file.txt' will be moved to the system's trash or recycle bin, depending on the operating system.\n",
    "\n",
    "The advantage of using send2trash over shutil functions is that it provides an extra layer of safety by allowing potential recovery of deleted files, similar to how files are moved to the trash or recycle bin in a graphical file manager."
   ]
  },
  {
   "cell_type": "markdown",
   "id": "0dd32f41",
   "metadata": {},
   "source": [
    "shutil: The shutil module provides the shutil.rmtree(path) function, which recursively deletes a directory and its contents, and the os.remove(path) function, which deletes a single file. These functions permanently delete files and directories, bypassing the system's trash or recycle bin. Once deleted, the files and directories cannot be easily recovered.\n",
    "\n",
    "Example:\n"
   ]
  },
  {
   "cell_type": "markdown",
   "id": "224b5813",
   "metadata": {},
   "source": [
    "import shutil\n",
    "\n",
    "shutil.rmtree('directory')\n",
    "\n",
    "In this example, the directory 'directory' and all its contents will be permanently deleted from the file system.\n",
    "\n",
    "The shutil module is typically used for low-level file operations and does not provide the option to move files to the trash or recycle bin."
   ]
  },
  {
   "cell_type": "markdown",
   "id": "06ee04ec",
   "metadata": {},
   "source": [
    "### 4.ZipFile objects have a close() method just like File objects’ close() method. What ZipFile method is equivalent to File objects’ open() method?"
   ]
  },
  {
   "cell_type": "markdown",
   "id": "dbe033d5",
   "metadata": {},
   "source": [
    "Ans: ZipFile Module provides a method called as zipfile.ZipFile() to read and write to zipFiles. it takes arugments lile filename and mode etc zipfile.ZipFile('filename', mode = 'r')"
   ]
  },
  {
   "cell_type": "markdown",
   "id": "8a875def",
   "metadata": {},
   "source": [
    "### 5. Create a programme that searches a folder tree for files with a certain file extension (such as .pdf or .jpg). Copy these files from whatever location they are in to a new folder."
   ]
  },
  {
   "cell_type": "code",
   "execution_count": 2,
   "id": "bac52fcf",
   "metadata": {},
   "outputs": [
    {
     "name": "stdout",
     "output_type": "stream",
     "text": [
      "Copied file: C:\\Users\\rahul\\Ineuron Python Assignment\\pythonBasic Assignment\\Assignment_10.docx --> E:\\to check\\Assignment_10.docx\n",
      "Copied file: C:\\Users\\rahul\\Ineuron Python Assignment\\pythonBasic Assignment\\Assignment_11.docx --> E:\\to check\\Assignment_11.docx\n",
      "Copied file: C:\\Users\\rahul\\Ineuron Python Assignment\\pythonBasic Assignment\\Assignment_12.docx --> E:\\to check\\Assignment_12.docx\n",
      "Copied file: C:\\Users\\rahul\\Ineuron Python Assignment\\pythonBasic Assignment\\Assignment_13.docx --> E:\\to check\\Assignment_13.docx\n",
      "Copied file: C:\\Users\\rahul\\Ineuron Python Assignment\\pythonBasic Assignment\\Assignment_14.docx --> E:\\to check\\Assignment_14.docx\n",
      "Copied file: C:\\Users\\rahul\\Ineuron Python Assignment\\pythonBasic Assignment\\Assignment_15.docx --> E:\\to check\\Assignment_15.docx\n",
      "Copied file: C:\\Users\\rahul\\Ineuron Python Assignment\\pythonBasic Assignment\\Assignment_16.docx --> E:\\to check\\Assignment_16.docx\n",
      "Copied file: C:\\Users\\rahul\\Ineuron Python Assignment\\pythonBasic Assignment\\Assignment_17.docx --> E:\\to check\\Assignment_17.docx\n",
      "Copied file: C:\\Users\\rahul\\Ineuron Python Assignment\\pythonBasic Assignment\\Assignment_18.docx --> E:\\to check\\Assignment_18.docx\n",
      "Copied file: C:\\Users\\rahul\\Ineuron Python Assignment\\pythonBasic Assignment\\Assignment_19.docx --> E:\\to check\\Assignment_19.docx\n",
      "Copied file: C:\\Users\\rahul\\Ineuron Python Assignment\\pythonBasic Assignment\\Assignment_20.docx --> E:\\to check\\Assignment_20.docx\n",
      "Copied file: C:\\Users\\rahul\\Ineuron Python Assignment\\pythonBasic Assignment\\Assignment_21.docx --> E:\\to check\\Assignment_21.docx\n",
      "Copied file: C:\\Users\\rahul\\Ineuron Python Assignment\\pythonBasic Assignment\\Assignment_22.docx --> E:\\to check\\Assignment_22.docx\n",
      "Copied file: C:\\Users\\rahul\\Ineuron Python Assignment\\pythonBasic Assignment\\Assignment_23.docx --> E:\\to check\\Assignment_23.docx\n",
      "Copied file: C:\\Users\\rahul\\Ineuron Python Assignment\\pythonBasic Assignment\\Assignment_24.docx --> E:\\to check\\Assignment_24.docx\n",
      "Copied file: C:\\Users\\rahul\\Ineuron Python Assignment\\pythonBasic Assignment\\Assignment_25.docx --> E:\\to check\\Assignment_25.docx\n",
      "Copied file: C:\\Users\\rahul\\Ineuron Python Assignment\\pythonBasic Assignment\\Assignment_7.docx --> E:\\to check\\Assignment_7.docx\n",
      "Copied file: C:\\Users\\rahul\\Ineuron Python Assignment\\pythonBasic Assignment\\Assignment_8.docx --> E:\\to check\\Assignment_8.docx\n",
      "Copied file: C:\\Users\\rahul\\Ineuron Python Assignment\\pythonBasic Assignment\\Assignment_9.docx --> E:\\to check\\Assignment_9.docx\n"
     ]
    }
   ],
   "source": [
    "import os\n",
    "import shutil\n",
    "\n",
    "def search_and_copy_files(source_folder, destination_folder, file_extension):\n",
    "    for root, dirs, files in os.walk(source_folder):\n",
    "        for file in files:\n",
    "            if file.endswith(file_extension):\n",
    "                source_path = os.path.join(root, file)\n",
    "                destination_path = os.path.join(destination_folder, file)\n",
    "                shutil.copy2(source_path, destination_path)\n",
    "                print(f\"Copied file: {source_path} --> {destination_path}\")\n",
    "\n",
    "# Provide the source folder, destination folder, and file extension\n",
    "source_folder = r'C:\\Users\\rahul\\Ineuron Python Assignment\\pythonBasic Assignment'\n",
    "destination_folder = r'E:\\to check'\n",
    "file_extension = '.docx'\n",
    "\n",
    "# Create the destination folder if it doesn't exist\n",
    "if not os.path.exists(destination_folder):\n",
    "    os.makedirs(destination_folder)\n",
    "\n",
    "# Call the function to search and copy files\n",
    "search_and_copy_files(source_folder, destination_folder, file_extension)\n"
   ]
  },
  {
   "cell_type": "code",
   "execution_count": null,
   "id": "f0b98c50",
   "metadata": {},
   "outputs": [],
   "source": []
  },
  {
   "cell_type": "code",
   "execution_count": null,
   "id": "36b03cfd",
   "metadata": {},
   "outputs": [],
   "source": []
  }
 ],
 "metadata": {
  "kernelspec": {
   "display_name": "Python 3",
   "language": "python",
   "name": "python3"
  },
  "language_info": {
   "codemirror_mode": {
    "name": "ipython",
    "version": 3
   },
   "file_extension": ".py",
   "mimetype": "text/x-python",
   "name": "python",
   "nbconvert_exporter": "python",
   "pygments_lexer": "ipython3",
   "version": "3.8.8"
  }
 },
 "nbformat": 4,
 "nbformat_minor": 5
}
